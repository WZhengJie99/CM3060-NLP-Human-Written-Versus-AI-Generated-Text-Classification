{
 "cells": [
  {
   "cell_type": "markdown",
   "metadata": {},
   "source": [
    "\n",
    "<div>\n",
    "<center>\n",
    "    <br>\n",
    "    <h1>UNIVERSITY OF LONDON INTERNATIONAL PROGRAMMES</h1>\n",
    "    <h2>Bachelor of Science (Honours) in Computer Science</h2><br>\n",
    "    <img src=\"assets/UOL-Insignia.png\" alt=\"University of London Insignia (image unavailable)\" width=\"200\"/><br>\n",
    "    <h2><b>CM3060 Natural Language Processing</h2>\n",
    "    <h1><b>Comparative Text Classification Using Statistical and Embedding-Based Models</b></h1><br>\n",
    "    <h3>Author: Wong Zheng Jie <br><br>\n",
    "    10246254<br><br><br>\n",
    "    Goldsmiths, University of London<br><br>\n",
    "    Singapore Institute of Management<br><br>\n",
    "</center>\n",
    "</div>\n",
    "\n",
    " ---"
   ]
  },
  {
   "cell_type": "markdown",
   "metadata": {},
   "source": [
    "## Abstract\n",
    "\n",
    "This report examines the rising difficulty of differentiating human-written text from AI-generated texts, a task that becomes more significant with the advent of Large Language Models such as ChatGPT [16]. The project performs a comparative examination of two key methods for text classification, a conventional statistical pipeline employing TF-IDF [7] vectorization with Logistic Regression [8], and an embedding-centric Deep Learning model utilizing the transformer architecture DistilBERT [9][10]11]. The HC3 [13][14][15] dataset, tailored for this task, is used to assess the performance of both models. Strategies for preprocessing, tokenization, and hyperparameter settings are examined thoroughly to ensure equitable comparison.\n",
    "\n",
    "Findings show that both models are effective, with the Deep Learning model slightly surpassing the statistical model overall scores. Nonetheless, the TF-IDF [7] and Logistic Regression [8] framework exhibits significant scores in terms of interpretability and efficiency, rendering it more desirable for environments with limited resources. The research examines model performance, practical compromises, and possible real-world uses such as plagiarism detection, AI content regulation, and academic usages. This research concludes by recommending improvements and directions for future works, such as, using multiple datasets from various AI models that provide text generated content and implementing models that target specific AI text related domains.\n"
   ]
  },
  {
   "cell_type": "markdown",
   "metadata": {},
   "source": [
    "## Introduction"
   ]
  },
  {
   "cell_type": "markdown",
   "metadata": {},
   "source": [
    "### Domain Specific Area\n",
    "\n",
    "Due to the swift progress and implementation of Large Language Models (LLMs) like ChatGPT, it has become increasingly challenging to differentiate between text written by humans and that produced by AI [1][2]. This increasing uncertainty poses an urgent challenge in various fields, especially in education, scholarly publishing, journalism, and digital content regulation. In these situations, it is frequently crucial to confirm the legitimacy of written material, whether to maintain academic honesty, guarantee accurate reporting, or promote transparency in content created by users [3].\n",
    "\n",
    "This domain offers distinct difficulties in comparison to conventional sentiment analysis or topic classification. Text produced by AI is becoming more fluent, grammatically accurate, and stylistically akin to human writing. Consequently, surface-level language indicators might not be adequate. Utilizing more sophisticated techniques that take advantage of semantic and contextual insights, like those based on transformer embeddings, might be necessary. Concurrently, the practical limitations of real-world implementation such as model interpretability, computational resources [4], and inference speed also need to be considered as well.\n",
    "\n",
    "This project tackles a crucial and swiftly developing domain by concentrating on AI-authorship detection, which lies at the crossroads of artificial intelligence, education, digital policy, and content integrity. The comparative examination of statistical and embedding-based models aims to build upon and support the wider initiative of preserving trust and accountability in the era of generative AI [5][6].\n"
   ]
  },
  {
   "cell_type": "markdown",
   "metadata": {},
   "source": [
    "### Objectives\n",
    "\n",
    "The main aim of this project is to compare and explore two distinct approaches for text classification, a conventional statistical technique utilizing TF-IDF [7] and Logistic Regression [8], alongside a Deep Learning (DL) model employing transformer-based embeddings through DistilBERT [9][10][11]. The two models are utilized for the identical classification task to decide if a specific response was composed by a human or produced by an AI language model. This issue has become increasingly significant in educational, journalistic, and regulatory settings, where it is essential to differentiate AI-generated content from human authored works.\n",
    "\n",
    "Another key objective is to evaluate the practical usefulness of each model, particularly in limited settings where computational efficiency or interpretability outweighs slight improvements in accuracy. For instance, statistical models might be favoured for lightweight implementation in browser-based detection tools or mobile applications. On the other hand, transformer models could be better suited for backend systems where precision and generalization take precedence over speed.\n",
    "\n",
    "This comparative study aims to enhance the larger conversation regarding AI-text detection and the distinction between human and AI-generated content [12], providing empirical evidence on the performance of various model types in this classification challenge. The results may potentially guide future decisions on model selection and implementation in real world settings, especially for organizations and developers aiming to adopt effective and accountable AI-authorship detection methods.\n",
    "\n"
   ]
  },
  {
   "cell_type": "markdown",
   "metadata": {},
   "source": [
    "### Dataset Description\n",
    "\n",
    "The HC3 [13][14][15] dataset was released in early 2023 to aid in differentiating between responses created by humans and those produced by AI. It comprises actual question-and-answer sets gathered from diverse fields, such as computer science, healthcare, legal studies, and education. For every question, there are usually two responses, one crafted by a human and another produced by OpenAI's ChatGPT 3.5 [16]. The dataset was assembled to present difficult examples where the linguistic style of ChatGPT closely mirrors that of human writers, rendering it ideal for the subtle task of text classification. The HC3 dataset was collected by:\n",
    "\n",
    "- Obtaining publicly available question-answering datasets where answers are given by experts in specific domains or are highly voted answers by web users.\n",
    "\n",
    "- Wiki text, where question-answer pairs were constructed using concepts and explanations from wiki sources.\n",
    "\n",
    "- ChatGPT answers by manually inputting questions with additional instructions to generate better human like answers.\n",
    "\n",
    "A dataset variant named HC3-Plus [17] was also scouted due to similarities in project objectives and dataset recency. Although HC3-Plus [17] is a useful extension, its incorporation of semantically invariant paraphrases brings in extra linguistic variation that is unrelated to the main classification goal. In this project, which aims to compare model architectures instead of examining robustness to paraphrasing, the original HC3 [13][14][15] dataset is more preferable.\n",
    "\n",
    "The dataset includes more than 24,322 rows, featuring 58, 546 human answers and 26, 903 AI-generated responses. Every data point consists of a question, at least 1 answer, and a label signifying if the answer was written by a human or an AI model. In this project, the response and label fields are mainly utilized as the main task entails classifying the authorship of text samples between human and AI.\n",
    "\n",
    "The HC3 [13][14][15] dataset serves as a high-quality reference for assessing the abilities of both traditional statistical and DL models in the field of human-AI text identification. Its equilibrium, variety of domains, and language resemblance across categories render it perfect for evaluating model performance in a realistic and demanding context.\n",
    "\n"
   ]
  },
  {
   "cell_type": "markdown",
   "metadata": {},
   "source": [
    "### Evaluation Methodology\n",
    "\n",
    "To guarantee a fair and significant comparison among the baseline, statistical, and DL models, various standard classification metrics such as Accuracy, Precision, Recall, and F1-Score, are being employed. These metrics offer different perspectives on model performance, especially in the event of an imbalanced class [18].\n",
    "\n",
    "__Accuracy__:\n",
    "Calculates the ratio of accurate predictions compared to total predictions. Although helpful for a general understanding of performance, it may be deceptive in uneven datasets. A classifier that consistently predicts the majority class might attain high accuracy yet underperform on the minority class.\n",
    "\n",
    "__Precision__:\n",
    "The ratio of accurate positive predictions to the total number of positive predictions made. In this context, it indicates the frequency with which the model accurately recognizes AI-generated answers when it claims something is AI. This is essential in situations where incorrectly alleging that a human's work is AI-generated must be reduced.\n",
    "\n",
    "__Recall__:\n",
    "The number of actual AI-generated texts that the model accurately identified. This is crucial for identifying subtle AI results that might be devoid of obvious indicators. A low recall signifies that numerous AI texts are overlooked (false negatives).\n",
    "\n",
    "__F1-Score__:\n",
    "The harmonic mean of precision and recall provides a balanced single metric that accounts for both false positives and false negatives. It is particularly helpful when comparing models with uneven class performance.\n",
    "\n",
    "These metrics will be presented for both the AI and human class and averaged through both macro (unweighted mean) and weighted (based on class size) methods. Moreover, confusion matrices will be used to provide visual clarity regarding the strengths and weaknesses of each model. This thorough assessment guarantees that models are evaluated not only on general accuracy but also on their capacity to differentiate between human and AI-generated content which is an essential criterion for this classification task.\n"
   ]
  },
  {
   "cell_type": "markdown",
   "metadata": {},
   "source": [
    "## Preparation"
   ]
  },
  {
   "cell_type": "markdown",
   "metadata": {},
   "source": [
    "### Importing Libraries"
   ]
  },
  {
   "cell_type": "code",
   "execution_count": 57,
   "metadata": {},
   "outputs": [
    {
     "name": "stdout",
     "output_type": "stream",
     "text": [
      "Note: you may need to restart the kernel to use updated packages.\n"
     ]
    },
    {
     "name": "stderr",
     "output_type": "stream",
     "text": [
      "  WARNING: Failed to remove contents in a temporary directory 'C:\\Users\\Shado\\anaconda3\\Lib\\site-packages\\~orch'.\n",
      "  You can safely remove it manually.\n"
     ]
    }
   ],
   "source": [
    "pip install datasets pandas scikit-learn nltk matplotlib seaborn transformers accelerate>=0.26.0"
   ]
  },
  {
   "cell_type": "code",
   "execution_count": 7,
   "metadata": {},
   "outputs": [
    {
     "name": "stdout",
     "output_type": "stream",
     "text": [
      "Collecting git+https://github.com/huggingface/transformers\n",
      "  Cloning https://github.com/huggingface/transformers to c:\\users\\shado\\appdata\\local\\temp\\pip-req-build-102ju658\n",
      "  Resolved https://github.com/huggingface/transformers to commit 6bdd4ec95264e5d8f219cfe4ee29ea9b42474bb7\n",
      "  Installing build dependencies: started\n",
      "  Installing build dependencies: finished with status 'done'\n",
      "  Getting requirements to build wheel: started\n",
      "  Getting requirements to build wheel: finished with status 'done'\n",
      "  Preparing metadata (pyproject.toml): started\n",
      "  Preparing metadata (pyproject.toml): finished with status 'done'\n",
      "Requirement already satisfied: transformers in c:\\users\\shado\\anaconda3\\lib\\site-packages (4.52.4)\n",
      "Requirement already satisfied: pip in c:\\users\\shado\\anaconda3\\lib\\site-packages (24.0)\n",
      "Collecting pip\n",
      "  Downloading pip-25.1.1-py3-none-any.whl.metadata (3.6 kB)\n",
      "Note: you may need to restart the kernel to use updated packages.\n"
     ]
    },
    {
     "name": "stderr",
     "output_type": "stream",
     "text": [
      "  Running command git clone --filter=blob:none --quiet https://github.com/huggingface/transformers 'C:\\Users\\Shado\\AppData\\Local\\Temp\\pip-req-build-102ju658'\n",
      "ERROR: Could not find a version that satisfies the requirement install (from versions: none)\n",
      "ERROR: No matching distribution found for install\n"
     ]
    }
   ],
   "source": [
    "pip install -U transformers pip install git+https://github.com/huggingface/transformers"
   ]
  },
  {
   "cell_type": "code",
   "execution_count": 1,
   "metadata": {},
   "outputs": [
    {
     "name": "stdout",
     "output_type": "stream",
     "text": [
      "Looking in indexes: https://download.pytorch.org/whl/cu121\n",
      "Collecting torch\n",
      "  Using cached https://download.pytorch.org/whl/cu121/torch-2.5.1%2Bcu121-cp312-cp312-win_amd64.whl (2449.3 MB)\n",
      "Collecting torchvision\n",
      "  Using cached https://download.pytorch.org/whl/cu121/torchvision-0.20.1%2Bcu121-cp312-cp312-win_amd64.whl (6.1 MB)\n",
      "Collecting torchaudio\n",
      "  Using cached https://download.pytorch.org/whl/cu121/torchaudio-2.5.1%2Bcu121-cp312-cp312-win_amd64.whl (4.1 MB)\n",
      "Requirement already satisfied: filelock in c:\\users\\shado\\anaconda3\\lib\\site-packages (from torch) (3.13.1)\n",
      "Requirement already satisfied: typing-extensions>=4.8.0 in c:\\users\\shado\\anaconda3\\lib\\site-packages (from torch) (4.11.0)\n",
      "Requirement already satisfied: networkx in c:\\users\\shado\\anaconda3\\lib\\site-packages (from torch) (3.2.1)\n",
      "Requirement already satisfied: jinja2 in c:\\users\\shado\\anaconda3\\lib\\site-packages (from torch) (3.1.4)\n",
      "Requirement already satisfied: fsspec in c:\\users\\shado\\anaconda3\\lib\\site-packages (from torch) (2024.3.1)\n",
      "Requirement already satisfied: setuptools in c:\\users\\shado\\anaconda3\\lib\\site-packages (from torch) (69.5.1)\n",
      "Requirement already satisfied: sympy==1.13.1 in c:\\users\\shado\\anaconda3\\lib\\site-packages (from torch) (1.13.1)\n",
      "Requirement already satisfied: mpmath<1.4,>=1.1.0 in c:\\users\\shado\\anaconda3\\lib\\site-packages (from sympy==1.13.1->torch) (1.3.0)\n",
      "Requirement already satisfied: numpy in c:\\users\\shado\\anaconda3\\lib\\site-packages (from torchvision) (1.26.4)\n",
      "Requirement already satisfied: pillow!=8.3.*,>=5.3.0 in c:\\users\\shado\\anaconda3\\lib\\site-packages (from torchvision) (10.3.0)\n",
      "Requirement already satisfied: MarkupSafe>=2.0 in c:\\users\\shado\\anaconda3\\lib\\site-packages (from jinja2->torch) (2.1.3)\n",
      "Installing collected packages: torch, torchvision, torchaudio\n",
      "Successfully installed torch-2.5.1+cu121 torchaudio-2.5.1+cu121 torchvision-0.20.1+cu121\n",
      "Note: you may need to restart the kernel to use updated packages.\n"
     ]
    },
    {
     "name": "stderr",
     "output_type": "stream",
     "text": [
      "WARNING: Ignoring invalid distribution ~orch (C:\\Users\\Shado\\anaconda3\\Lib\\site-packages)\n",
      "WARNING: Skipping C:\\Users\\Shado\\anaconda3\\Lib\\site-packages\\~orch-2.6.0.dist-info due to invalid metadata entry 'name'\n"
     ]
    }
   ],
   "source": [
    "pip install torch torchvision torchaudio --index-url https://download.pytorch.org/whl/cu121"
   ]
  },
  {
   "cell_type": "code",
   "execution_count": 1,
   "metadata": {},
   "outputs": [
    {
     "name": "stdout",
     "output_type": "stream",
     "text": [
      "Importing Libraries Complete\n"
     ]
    },
    {
     "name": "stderr",
     "output_type": "stream",
     "text": [
      "[nltk_data] Downloading package punkt to\n",
      "[nltk_data]     C:\\Users\\Shado\\AppData\\Roaming\\nltk_data...\n",
      "[nltk_data]   Package punkt is already up-to-date!\n",
      "[nltk_data] Downloading package stopwords to\n",
      "[nltk_data]     C:\\Users\\Shado\\AppData\\Roaming\\nltk_data...\n",
      "[nltk_data]   Package stopwords is already up-to-date!\n",
      "[nltk_data] Downloading package wordnet to\n",
      "[nltk_data]     C:\\Users\\Shado\\AppData\\Roaming\\nltk_data...\n",
      "[nltk_data]   Package wordnet is already up-to-date!\n"
     ]
    }
   ],
   "source": [
    "import datasets\n",
    "from datasets import load_dataset\n",
    "import pandas as pd\n",
    "import re\n",
    "import matplotlib.pyplot as plt\n",
    "import seaborn as sns\n",
    "import transformers\n",
    "from transformers import AutoTokenizer, AutoModelForSequenceClassification, TrainingArguments, Trainer\n",
    "\n",
    "import torch\n",
    "from torch.utils.data import DataLoader\n",
    "import numpy as np\n",
    "\n",
    "import nltk\n",
    "from nltk.corpus import stopwords\n",
    "from nltk.stem import WordNetLemmatizer\n",
    "\n",
    "# this downloads the required NLTK resources for cleaning and normalization\n",
    "nltk.download('punkt')\n",
    "nltk.download('stopwords')\n",
    "nltk.download('wordnet')\n",
    "\n",
    "from sklearn.model_selection import train_test_split\n",
    "from sklearn.linear_model import LogisticRegression\n",
    "from sklearn.metrics import accuracy_score, confusion_matrix, classification_report\n",
    "from sklearn.feature_extraction.text import TfidfVectorizer\n",
    "\n",
    "print(\"Importing Libraries Complete\")"
   ]
  },
  {
   "cell_type": "markdown",
   "metadata": {},
   "source": [
    "### Downloading Dataset"
   ]
  },
  {
   "cell_type": "code",
   "execution_count": 4,
   "metadata": {},
   "outputs": [
    {
     "name": "stdout",
     "output_type": "stream",
     "text": [
      "Dataset saved as 'hc3_dataset.csv'\n"
     ]
    }
   ],
   "source": [
    "# this section downloads the HC3 dataset for local data manipulation\n",
    "# this loads the HC3 dataset from Hugging Face then converts it to padas dataframe for local manipulation\n",
    "dataset = load_dataset(\"Hello-SimpleAI/HC3\", name=\"all\", split=\"train\", trust_remote_code=True)\n",
    "df = dataset.to_pandas()\n",
    "\n",
    "# this saves the csv for local use\n",
    "df.to_csv(\"hc3_dataset.csv\", index=False)\n",
    "print(\"Dataset saved as 'hc3_dataset.csv'\")"
   ]
  },
  {
   "cell_type": "markdown",
   "metadata": {},
   "source": [
    "### Viewing and Understanding Working Dataset"
   ]
  },
  {
   "cell_type": "code",
   "execution_count": 7,
   "metadata": {},
   "outputs": [
    {
     "name": "stdout",
     "output_type": "stream",
     "text": [
      "(24322, 5)\n",
      "Index(['id', 'question', 'human_answers', 'chatgpt_answers', 'source'], dtype='object')\n",
      "  id                                           question  \\\n",
      "0  0  Why is every book I hear about a \" NY Times # ...   \n",
      "1  1  If salt is so bad for cars , why do we use it ...   \n",
      "2  2  Why do we still have SD TV channels when HD lo...   \n",
      "\n",
      "                                       human_answers  \\\n",
      "0  [Basically there are many categories of \" Best...   \n",
      "1  [salt is good for not dying in car crashes and...   \n",
      "2  [The way it works is that old TV stations got ...   \n",
      "\n",
      "                                     chatgpt_answers       source  \n",
      "0  [There are many different best seller lists th...  reddit_eli5  \n",
      "1  [Salt is used on roads to help melt ice and sn...  reddit_eli5  \n",
      "2  [There are a few reasons why we still have SD ...  reddit_eli5  \n"
     ]
    }
   ],
   "source": [
    "# this views the dataset's shape and sample\n",
    "print(df.shape)\n",
    "print(df.columns)\n",
    "print(df.head(3))"
   ]
  },
  {
   "cell_type": "markdown",
   "metadata": {},
   "source": [
    "## Data Preprocessing\n",
    "\n",
    "The initial HC3 [13][14][15] dataset comprises of human_answers and chatgpt_answers organized in lists. They were flattened into separate individual rows, and a new binary label is_human was created (0 for AI, 1 for human). The question and its related answer were merged into one text field, creating the input for subsequent models."
   ]
  },
  {
   "cell_type": "markdown",
   "metadata": {},
   "source": [
    "### Data Reshaping"
   ]
  },
  {
   "cell_type": "code",
   "execution_count": 11,
   "metadata": {},
   "outputs": [
    {
     "name": "stdout",
     "output_type": "stream",
     "text": [
      "Full dataset shape: (85449, 4)\n",
      "                                            question  \\\n",
      "0  Why is every book I hear about a \" NY Times # ...   \n",
      "1  If salt is so bad for cars , why do we use it ...   \n",
      "2  Why do we still have SD TV channels when HD lo...   \n",
      "\n",
      "                                              answer  is_human  \\\n",
      "0  There are many different best seller lists tha...         0   \n",
      "1  Salt is used on roads to help melt ice and sno...         0   \n",
      "2  There are a few reasons why we still have SD (...         0   \n",
      "\n",
      "                                                text  \n",
      "0  Why is every book I hear about a \" NY Times # ...  \n",
      "1  If salt is so bad for cars , why do we use it ...  \n",
      "2  Why do we still have SD TV channels when HD lo...  \n",
      "                                                    text  is_human\n",
      "47472  How does Amazon manage to stay in business ? I...         1\n",
      "36719  Why Caucasians have variations in hair color a...         1\n",
      "75413  Why can a console run exclusive games better t...         1\n"
     ]
    }
   ],
   "source": [
    "# this flattens the chatgpt_answers into rows with is_human = 0\n",
    "ai_df = df[['question', 'chatgpt_answers']].explode('chatgpt_answers')\n",
    "ai_df = ai_df.rename(columns={'chatgpt_answers': 'answer'})\n",
    "ai_df['is_human'] = 0\n",
    "\n",
    "# this flattens human_answers into rows with is_human = 1\n",
    "human_df = df[['question', 'human_answers']].explode('human_answers')\n",
    "human_df = human_df.rename(columns={'human_answers': 'answer'})\n",
    "human_df['is_human'] = 1\n",
    "\n",
    "# combine both into a single dataframe and drop any rows with missing values\n",
    "full_df = pd.concat([ai_df, human_df], ignore_index=True)\n",
    "full_df.dropna(subset=['question', 'answer'], inplace=True)\n",
    "\n",
    "# this combines the questions and answers for classification input\n",
    "full_df['text'] = full_df['question'] + \" \" + full_df['answer']\n",
    "\n",
    "# results\n",
    "print(\"Full dataset shape:\", full_df.shape)\n",
    "print(full_df.head(3))\n",
    "print(full_df[['text', 'is_human']].sample(3))"
   ]
  },
  {
   "cell_type": "markdown",
   "metadata": {},
   "source": [
    "### Cleaning and Normalization\n",
    "\n",
    "The text data then underwent normalization to minimize noise and enhance model performance. The cleaning process encompasses the following:\n",
    "\n",
    "- Converting text into lowercase form to avoid treating ‘AI’ and ‘ai’ as separate tokens\n",
    "\n",
    "- Removing punctuation, numbers, and URLs due to limited values in statistical models\n",
    "\n",
    "- Tokenizing text using nltk.word_tokenize() for the NLP pipeline\n",
    "\n",
    "- Removing English stopwords to reduce noise\n",
    "\n",
    "- Applying lemmatization to reduce sparsity and potentially improve generalization (i.e. mapping \"runs\", \"running\", \"ran\" to \"run\")\n",
    "\n",
    "The processed output is then saved in a new column called clean_text, to be used for the conventional statistical model, while the unrefined text was retained for tokenization in the DL model."
   ]
  },
  {
   "cell_type": "code",
   "execution_count": 14,
   "metadata": {},
   "outputs": [
    {
     "name": "stdout",
     "output_type": "stream",
     "text": [
      "                                                    text  \\\n",
      "32522  Explain how 0.999 recurring = 1 ( LI5 . ) This...   \n",
      "59342  How do languages such as latin or native tribe...   \n",
      "8077   Why does everyone hate lawyers ? You pay them ...   \n",
      "\n",
      "                                              clean_text  is_human  \n",
      "32522  explain recurring li explained class younger n...         1  \n",
      "59342  language latin native tribe language die liste...         1  \n",
      "8077   everyone hate lawyer pay try get shit hole wro...         0  \n"
     ]
    }
   ],
   "source": [
    "# this is the setup to remove stopwords like \"the\", \"a\", and \"an\" and prepares for lemmatization to improve generalization by reducing sparsity\n",
    "stop_words = set(stopwords.words('english'))\n",
    "lemmatizer = WordNetLemmatizer()\n",
    "\n",
    "def clean_text(text):\n",
    "    # this converts to lowercase\n",
    "    text = text.lower()\n",
    "    \n",
    "    # this removes URLs\n",
    "    text = re.sub(r\"http\\S+|www\\S+|https\\S+\", '', text)\n",
    "    \n",
    "    # this removes punctuation and numbers\n",
    "    text = re.sub(r\"[^a-z\\s]\", '', text)\n",
    "    \n",
    "    # this tokenizes the words\n",
    "    tokens = nltk.word_tokenize(text)\n",
    "    \n",
    "    # this remove stopwords and applies lemmatization\n",
    "    tokens = [lemmatizer.lemmatize(t) for t in tokens if t not in stop_words]\n",
    "    \n",
    "    # this rejoins the tokens into a single cleaned string\n",
    "    return \" \".join(tokens)\n",
    "\n",
    "# the output is then saved in a new column for the traditional statistical model while the riginal uncleaned text remains for the DL model\n",
    "full_df['clean_text'] = full_df['text'].apply(clean_text)\n",
    "print(full_df[['text', 'clean_text', 'is_human']].sample(3))\n"
   ]
  },
  {
   "cell_type": "markdown",
   "metadata": {},
   "source": [
    "### Class Imbalance"
   ]
  },
  {
   "cell_type": "code",
   "execution_count": 17,
   "metadata": {},
   "outputs": [
    {
     "name": "stdout",
     "output_type": "stream",
     "text": [
      "Class counts:\n",
      " is_human\n",
      "1    58546\n",
      "0    26903\n",
      "Name: count, dtype: int64\n",
      "\n",
      "Class proportions:\n",
      " is_human\n",
      "1    68.52%\n",
      "0    31.48%\n",
      "Name: proportion, dtype: object\n"
     ]
    },
    {
     "data": {
      "image/png": "[encoded data removed]",
      "text/plain": [
       "<Figure size 600x400 with 1 Axes>"
      ]
     },
     "metadata": {},
     "output_type": "display_data"
    }
   ],
   "source": [
    "print(\"Class counts:\\n\", full_df['is_human'].value_counts())\n",
    "print(\"\\nClass proportions:\\n\", full_df['is_human'].value_counts(normalize=True).map(\"{:.2%}\".format))\n",
    "\n",
    "# class counts for plotting graph\n",
    "class_counts = full_df['is_human'].value_counts()\n",
    "\n",
    "plt.figure(figsize=(6, 4))\n",
    "plt.bar(class_counts.index.map({0: \"AI\", 1: \"Human\"}), class_counts.values, color=[\"#ff0000\", \"#0000ff\"])\n",
    "plt.title(\"Class Distribution: Human vs AI\")\n",
    "plt.xlabel(\"Class\")\n",
    "plt.ylabel(\"Number of Samples\")\n",
    "plt.grid(axis='y', linestyle='--', alpha=0.7)\n",
    "plt.tight_layout()\n",
    "plt.show()"
   ]
  },
  {
   "cell_type": "code",
   "execution_count": 19,
   "metadata": {},
   "outputs": [],
   "source": [
    "# Stratified Train-Test Split ensures the class ratio is preserved in both training and testing sets\n",
    "X = full_df['clean_text']\n",
    "y = full_df['is_human']\n",
    "X_train, X_test, y_train, y_test = train_test_split(X, y, test_size=0.2, random_state=42, stratify=y)\n",
    "\n",
    "# class weight for later models\n",
    "# clf = LogisticRegression(class_weight='balanced', max_iter=1000)"
   ]
  },
  {
   "cell_type": "markdown",
   "metadata": {},
   "source": [
    "As the processed dataset class counts and proportions includes 58, 546 human answers and 26, 903 AI-generated responses or approximately 69% human-written responses and around 31% AI-generated responses, stratified splitting was employed for dividing the data into training and testing sets and class weighting was set to be used for later model training to reduce bias."
   ]
  },
  {
   "cell_type": "markdown",
   "metadata": {},
   "source": [
    "### Baseline Model\n",
    "\n",
    "A basic classifier based on keywords was created as a benchmark. It identifies AI-produced content by recognizing common phrase patterns frequently utilized by ChatGPT, like “as an AI language model” or “it’s important to note that -”. This approach needs no training and serves as a simple, understandable benchmark. Although it might overlook more nuanced AI replies or incorrectly categorize formal human responses, it provides a reasonable benchmark for assessing the benefits of statistical and DL models."
   ]
  },
  {
   "cell_type": "code",
   "execution_count": 22,
   "metadata": {},
   "outputs": [
    {
     "name": "stdout",
     "output_type": "stream",
     "text": [
      "Applied to test data\n"
     ]
    }
   ],
   "source": [
    "# common \"AI-like\" sentences\n",
    "ai_keywords = [\n",
    "    \"as an ai\", \"in conclusion\", \"based on my knowledge\", \n",
    "    \"as a language model\", \"it's important to note\", \n",
    "    \"i cannot provide\", \"i do not have personal opinions\", \n",
    "    \"openai\", \"language model\", \"ai assistant\"\n",
    "]\n",
    "\n",
    "# Heuristic baseline function\n",
    "def baseline_classifier(text):\n",
    "    text_lower = text.lower()\n",
    "    for phrase in ai_keywords:\n",
    "        if phrase in text_lower:\n",
    "            # predict AI\n",
    "            return 0\n",
    "    # if not, predict Human\n",
    "    return 1\n",
    "\n",
    "# apply to test data\n",
    "full_df['baseline_pred'] = full_df['text'].apply(baseline_classifier)\n",
    "print(\"Applied to test data\")"
   ]
  },
  {
   "cell_type": "markdown",
   "metadata": {},
   "source": [
    "### Baseline Performance"
   ]
  },
  {
   "cell_type": "code",
   "execution_count": 25,
   "metadata": {},
   "outputs": [
    {
     "name": "stdout",
     "output_type": "stream",
     "text": [
      "Baseline Performance Report:\n",
      "\n",
      "              precision    recall  f1-score   support\n",
      "\n",
      "          AI       0.98      0.07      0.13     26903\n",
      "       Human       0.70      1.00      0.82     58546\n",
      "\n",
      "    accuracy                           0.71     85449\n",
      "   macro avg       0.84      0.54      0.48     85449\n",
      "weighted avg       0.79      0.71      0.61     85449\n",
      "\n"
     ]
    },
    {
     "data": {
      "image/png": "[encoded data removed]",
      "text/plain": [
       "<Figure size 600x400 with 2 Axes>"
      ]
     },
     "metadata": {},
     "output_type": "display_data"
    }
   ],
   "source": [
    "# this prints a report summary\n",
    "print(\"Baseline Performance Report:\\n\")\n",
    "print(classification_report(full_df['is_human'], full_df['baseline_pred'], target_names=[\"AI\", \"Human\"]))\n",
    "\n",
    "# this geenerates the confusion matrix\n",
    "cm = confusion_matrix(full_df['is_human'], full_df['baseline_pred'])\n",
    "labels = [\"AI\", \"Human\"]\n",
    "\n",
    "# this plots the confusion matrix as a heatmap for better visualization as opposed to just numbers in a matrix\n",
    "plt.figure(figsize=(6, 4))\n",
    "sns.heatmap(cm, annot=True, fmt=\"d\", cmap=\"YlGnBu\", xticklabels=labels, yticklabels=labels)\n",
    "plt.title(\"Confusion Matrix: Baseline\")\n",
    "plt.xlabel(\"Predicted Label\")\n",
    "plt.ylabel(\"True Label\")\n",
    "plt.tight_layout()\n",
    "plt.show()\n"
   ]
  },
  {
   "cell_type": "markdown",
   "metadata": {},
   "source": [
    "Regarding performance, the classifier reached 98% precision but only 7% recall for AI generated texts, suggesting that it seldom misidentifies human inputs as AI while struggling to recognize most AI responses. This is additionally backed by the confusion matrix, which displays a significant number of false negatives for the AI category. The overall accuracy stood at 71% but was significantly influenced by the predominant human category. These findings support the requirement for stronger models that can detect more nuanced patterns in AI-produced language."
   ]
  },
  {
   "cell_type": "markdown",
   "metadata": {},
   "source": [
    "## Comparative Classification"
   ]
  },
  {
   "cell_type": "markdown",
   "metadata": {},
   "source": [
    "### Traditional Statistical Model: TF-IDF and Logistic Regression\n",
    "\n",
    "A traditional statistical model employing Term Frequency–Inverse Document Frequency (TF-IDF) [7] vectorization along with a Logistic Regression [8] classifier is utilized as a balanced method. TF-IDF [7] converts unprocessed text into numerical characteristics by reflecting the significance of words in documents compared to the whole corpus. This aids in emphasizing unique words found in AI-created compared to human-authored text.\n",
    "\n",
    "Logistic Regression [8] was selected for its ease of use, clarity, and excellent performance on high-dimensional sparse data such as TF-IDF [7] vectors. It serves as a standard reference in numerous text classification tasks and allows straightforward comparison with more advanced models, such as DL models, without requiring extensive computational resources or pretraining.\n"
   ]
  },
  {
   "cell_type": "code",
   "execution_count": 70,
   "metadata": {},
   "outputs": [
    {
     "data": {
      "text/html": [
       "<style>#sk-container-id-1 {\n",
       "  /* Definition of color scheme common for light and dark mode */\n",
       "  --sklearn-color-text: black;\n",
       "  --sklearn-color-line: gray;\n",
       "  /* Definition of color scheme for unfitted estimators */\n",
       "  --sklearn-color-unfitted-level-0: #fff5e6;\n",
       "  --sklearn-color-unfitted-level-1: #f6e4d2;\n",
       "  --sklearn-color-unfitted-level-2: #ffe0b3;\n",
       "  --sklearn-color-unfitted-level-3: chocolate;\n",
       "  /* Definition of color scheme for fitted estimators */\n",
       "  --sklearn-color-fitted-level-0: #f0f8ff;\n",
       "  --sklearn-color-fitted-level-1: #d4ebff;\n",
       "  --sklearn-color-fitted-level-2: #b3dbfd;\n",
       "  --sklearn-color-fitted-level-3: cornflowerblue;\n",
       "\n",
       "  /* Specific color for light theme */\n",
       "  --sklearn-color-text-on-default-background: var(--sg-text-color, var(--theme-code-foreground, var(--jp-content-font-color1, black)));\n",
       "  --sklearn-color-background: var(--sg-background-color, var(--theme-background, var(--jp-layout-color0, white)));\n",
       "  --sklearn-color-border-box: var(--sg-text-color, var(--theme-code-foreground, var(--jp-content-font-color1, black)));\n",
       "  --sklearn-color-icon: #696969;\n",
       "\n",
       "  @media (prefers-color-scheme: dark) {\n",
       "    /* Redefinition of color scheme for dark theme */\n",
       "    --sklearn-color-text-on-default-background: var(--sg-text-color, var(--theme-code-foreground, var(--jp-content-font-color1, white)));\n",
       "    --sklearn-color-background: var(--sg-background-color, var(--theme-background, var(--jp-layout-color0, #111)));\n",
       "    --sklearn-color-border-box: var(--sg-text-color, var(--theme-code-foreground, var(--jp-content-font-color1, white)));\n",
       "    --sklearn-color-icon: #878787;\n",
       "  }\n",
       "}\n",
       "\n",
       "#sk-container-id-1 {\n",
       "  color: var(--sklearn-color-text);\n",
       "}\n",
       "\n",
       "#sk-container-id-1 pre {\n",
       "  padding: 0;\n",
       "}\n",
       "\n",
       "#sk-container-id-1 input.sk-hidden--visually {\n",
       "  border: 0;\n",
       "  clip: rect(1px 1px 1px 1px);\n",
       "  clip: rect(1px, 1px, 1px, 1px);\n",
       "  height: 1px;\n",
       "  margin: -1px;\n",
       "  overflow: hidden;\n",
       "  padding: 0;\n",
       "  position: absolute;\n",
       "  width: 1px;\n",
       "}\n",
       "\n",
       "#sk-container-id-1 div.sk-dashed-wrapped {\n",
       "  border: 1px dashed var(--sklearn-color-line);\n",
       "  margin: 0 0.4em 0.5em 0.4em;\n",
       "  box-sizing: border-box;\n",
       "  padding-bottom: 0.4em;\n",
       "  background-color: var(--sklearn-color-background);\n",
       "}\n",
       "\n",
       "#sk-container-id-1 div.sk-container {\n",
       "  /* jupyter's `normalize.less` sets `[hidden] { display: none; }`\n",
       "     but bootstrap.min.css set `[hidden] { display: none !important; }`\n",
       "     so we also need the `!important` here to be able to override the\n",
       "     default hidden behavior on the sphinx rendered scikit-learn.org.\n",
       "     See: https://github.com/scikit-learn/scikit-learn/issues/21755 */\n",
       "  display: inline-block !important;\n",
       "  position: relative;\n",
       "}\n",
       "\n",
       "#sk-container-id-1 div.sk-text-repr-fallback {\n",
       "  display: none;\n",
       "}\n",
       "\n",
       "div.sk-parallel-item,\n",
       "div.sk-serial,\n",
       "div.sk-item {\n",
       "  /* draw centered vertical line to link estimators */\n",
       "  background-image: linear-gradient(var(--sklearn-color-text-on-default-background), var(--sklearn-color-text-on-default-background));\n",
       "  background-size: 2px 100%;\n",
       "  background-repeat: no-repeat;\n",
       "  background-position: center center;\n",
       "}\n",
       "\n",
       "/* Parallel-specific style estimator block */\n",
       "\n",
       "#sk-container-id-1 div.sk-parallel-item::after {\n",
       "  content: \"\";\n",
       "  width: 100%;\n",
       "  border-bottom: 2px solid var(--sklearn-color-text-on-default-background);\n",
       "  flex-grow: 1;\n",
       "}\n",
       "\n",
       "#sk-container-id-1 div.sk-parallel {\n",
       "  display: flex;\n",
       "  align-items: stretch;\n",
       "  justify-content: center;\n",
       "  background-color: var(--sklearn-color-background);\n",
       "  position: relative;\n",
       "}\n",
       "\n",
       "#sk-container-id-1 div.sk-parallel-item {\n",
       "  display: flex;\n",
       "  flex-direction: column;\n",
       "}\n",
       "\n",
       "#sk-container-id-1 div.sk-parallel-item:first-child::after {\n",
       "  align-self: flex-end;\n",
       "  width: 50%;\n",
       "}\n",
       "\n",
       "#sk-container-id-1 div.sk-parallel-item:last-child::after {\n",
       "  align-self: flex-start;\n",
       "  width: 50%;\n",
       "}\n",
       "\n",
       "#sk-container-id-1 div.sk-parallel-item:only-child::after {\n",
       "  width: 0;\n",
       "}\n",
       "\n",
       "/* Serial-specific style estimator block */\n",
       "\n",
       "#sk-container-id-1 div.sk-serial {\n",
       "  display: flex;\n",
       "  flex-direction: column;\n",
       "  align-items: center;\n",
       "  background-color: var(--sklearn-color-background);\n",
       "  padding-right: 1em;\n",
       "  padding-left: 1em;\n",
       "}\n",
       "\n",
       "\n",
       "/* Toggleable style: style used for estimator/Pipeline/ColumnTransformer box that is\n",
       "clickable and can be expanded/collapsed.\n",
       "- Pipeline and ColumnTransformer use this feature and define the default style\n",
       "- Estimators will overwrite some part of the style using the `sk-estimator` class\n",
       "*/\n",
       "\n",
       "/* Pipeline and ColumnTransformer style (default) */\n",
       "\n",
       "#sk-container-id-1 div.sk-toggleable {\n",
       "  /* Default theme specific background. It is overwritten whether we have a\n",
       "  specific estimator or a Pipeline/ColumnTransformer */\n",
       "  background-color: var(--sklearn-color-background);\n",
       "}\n",
       "\n",
       "/* Toggleable label */\n",
       "#sk-container-id-1 label.sk-toggleable__label {\n",
       "  cursor: pointer;\n",
       "  display: block;\n",
       "  width: 100%;\n",
       "  margin-bottom: 0;\n",
       "  padding: 0.5em;\n",
       "  box-sizing: border-box;\n",
       "  text-align: center;\n",
       "}\n",
       "\n",
       "#sk-container-id-1 label.sk-toggleable__label-arrow:before {\n",
       "  /* Arrow on the left of the label */\n",
       "  content: \"▸\";\n",
       "  float: left;\n",
       "  margin-right: 0.25em;\n",
       "  color: var(--sklearn-color-icon);\n",
       "}\n",
       "\n",
       "#sk-container-id-1 label.sk-toggleable__label-arrow:hover:before {\n",
       "  color: var(--sklearn-color-text);\n",
       "}\n",
       "\n",
       "/* Toggleable content - dropdown */\n",
       "\n",
       "#sk-container-id-1 div.sk-toggleable__content {\n",
       "  max-height: 0;\n",
       "  max-width: 0;\n",
       "  overflow: hidden;\n",
       "  text-align: left;\n",
       "  /* unfitted */\n",
       "  background-color: var(--sklearn-color-unfitted-level-0);\n",
       "}\n",
       "\n",
       "#sk-container-id-1 div.sk-toggleable__content.fitted {\n",
       "  /* fitted */\n",
       "  background-color: var(--sklearn-color-fitted-level-0);\n",
       "}\n",
       "\n",
       "#sk-container-id-1 div.sk-toggleable__content pre {\n",
       "  margin: 0.2em;\n",
       "  border-radius: 0.25em;\n",
       "  color: var(--sklearn-color-text);\n",
       "  /* unfitted */\n",
       "  background-color: var(--sklearn-color-unfitted-level-0);\n",
       "}\n",
       "\n",
       "#sk-container-id-1 div.sk-toggleable__content.fitted pre {\n",
       "  /* unfitted */\n",
       "  background-color: var(--sklearn-color-fitted-level-0);\n",
       "}\n",
       "\n",
       "#sk-container-id-1 input.sk-toggleable__control:checked~div.sk-toggleable__content {\n",
       "  /* Expand drop-down */\n",
       "  max-height: 200px;\n",
       "  max-width: 100%;\n",
       "  overflow: auto;\n",
       "}\n",
       "\n",
       "#sk-container-id-1 input.sk-toggleable__control:checked~label.sk-toggleable__label-arrow:before {\n",
       "  content: \"▾\";\n",
       "}\n",
       "\n",
       "/* Pipeline/ColumnTransformer-specific style */\n",
       "\n",
       "#sk-container-id-1 div.sk-label input.sk-toggleable__control:checked~label.sk-toggleable__label {\n",
       "  color: var(--sklearn-color-text);\n",
       "  background-color: var(--sklearn-color-unfitted-level-2);\n",
       "}\n",
       "\n",
       "#sk-container-id-1 div.sk-label.fitted input.sk-toggleable__control:checked~label.sk-toggleable__label {\n",
       "  background-color: var(--sklearn-color-fitted-level-2);\n",
       "}\n",
       "\n",
       "/* Estimator-specific style */\n",
       "\n",
       "/* Colorize estimator box */\n",
       "#sk-container-id-1 div.sk-estimator input.sk-toggleable__control:checked~label.sk-toggleable__label {\n",
       "  /* unfitted */\n",
       "  background-color: var(--sklearn-color-unfitted-level-2);\n",
       "}\n",
       "\n",
       "#sk-container-id-1 div.sk-estimator.fitted input.sk-toggleable__control:checked~label.sk-toggleable__label {\n",
       "  /* fitted */\n",
       "  background-color: var(--sklearn-color-fitted-level-2);\n",
       "}\n",
       "\n",
       "#sk-container-id-1 div.sk-label label.sk-toggleable__label,\n",
       "#sk-container-id-1 div.sk-label label {\n",
       "  /* The background is the default theme color */\n",
       "  color: var(--sklearn-color-text-on-default-background);\n",
       "}\n",
       "\n",
       "/* On hover, darken the color of the background */\n",
       "#sk-container-id-1 div.sk-label:hover label.sk-toggleable__label {\n",
       "  color: var(--sklearn-color-text);\n",
       "  background-color: var(--sklearn-color-unfitted-level-2);\n",
       "}\n",
       "\n",
       "/* Label box, darken color on hover, fitted */\n",
       "#sk-container-id-1 div.sk-label.fitted:hover label.sk-toggleable__label.fitted {\n",
       "  color: var(--sklearn-color-text);\n",
       "  background-color: var(--sklearn-color-fitted-level-2);\n",
       "}\n",
       "\n",
       "/* Estimator label */\n",
       "\n",
       "#sk-container-id-1 div.sk-label label {\n",
       "  font-family: monospace;\n",
       "  font-weight: bold;\n",
       "  display: inline-block;\n",
       "  line-height: 1.2em;\n",
       "}\n",
       "\n",
       "#sk-container-id-1 div.sk-label-container {\n",
       "  text-align: center;\n",
       "}\n",
       "\n",
       "/* Estimator-specific */\n",
       "#sk-container-id-1 div.sk-estimator {\n",
       "  font-family: monospace;\n",
       "  border: 1px dotted var(--sklearn-color-border-box);\n",
       "  border-radius: 0.25em;\n",
       "  box-sizing: border-box;\n",
       "  margin-bottom: 0.5em;\n",
       "  /* unfitted */\n",
       "  background-color: var(--sklearn-color-unfitted-level-0);\n",
       "}\n",
       "\n",
       "#sk-container-id-1 div.sk-estimator.fitted {\n",
       "  /* fitted */\n",
       "  background-color: var(--sklearn-color-fitted-level-0);\n",
       "}\n",
       "\n",
       "/* on hover */\n",
       "#sk-container-id-1 div.sk-estimator:hover {\n",
       "  /* unfitted */\n",
       "  background-color: var(--sklearn-color-unfitted-level-2);\n",
       "}\n",
       "\n",
       "#sk-container-id-1 div.sk-estimator.fitted:hover {\n",
       "  /* fitted */\n",
       "  background-color: var(--sklearn-color-fitted-level-2);\n",
       "}\n",
       "\n",
       "/* Specification for estimator info (e.g. \"i\" and \"?\") */\n",
       "\n",
       "/* Common style for \"i\" and \"?\" */\n",
       "\n",
       ".sk-estimator-doc-link,\n",
       "a:link.sk-estimator-doc-link,\n",
       "a:visited.sk-estimator-doc-link {\n",
       "  float: right;\n",
       "  font-size: smaller;\n",
       "  line-height: 1em;\n",
       "  font-family: monospace;\n",
       "  background-color: var(--sklearn-color-background);\n",
       "  border-radius: 1em;\n",
       "  height: 1em;\n",
       "  width: 1em;\n",
       "  text-decoration: none !important;\n",
       "  margin-left: 1ex;\n",
       "  /* unfitted */\n",
       "  border: var(--sklearn-color-unfitted-level-1) 1pt solid;\n",
       "  color: var(--sklearn-color-unfitted-level-1);\n",
       "}\n",
       "\n",
       ".sk-estimator-doc-link.fitted,\n",
       "a:link.sk-estimator-doc-link.fitted,\n",
       "a:visited.sk-estimator-doc-link.fitted {\n",
       "  /* fitted */\n",
       "  border: var(--sklearn-color-fitted-level-1) 1pt solid;\n",
       "  color: var(--sklearn-color-fitted-level-1);\n",
       "}\n",
       "\n",
       "/* On hover */\n",
       "div.sk-estimator:hover .sk-estimator-doc-link:hover,\n",
       ".sk-estimator-doc-link:hover,\n",
       "div.sk-label-container:hover .sk-estimator-doc-link:hover,\n",
       ".sk-estimator-doc-link:hover {\n",
       "  /* unfitted */\n",
       "  background-color: var(--sklearn-color-unfitted-level-3);\n",
       "  color: var(--sklearn-color-background);\n",
       "  text-decoration: none;\n",
       "}\n",
       "\n",
       "div.sk-estimator.fitted:hover .sk-estimator-doc-link.fitted:hover,\n",
       ".sk-estimator-doc-link.fitted:hover,\n",
       "div.sk-label-container:hover .sk-estimator-doc-link.fitted:hover,\n",
       ".sk-estimator-doc-link.fitted:hover {\n",
       "  /* fitted */\n",
       "  background-color: var(--sklearn-color-fitted-level-3);\n",
       "  color: var(--sklearn-color-background);\n",
       "  text-decoration: none;\n",
       "}\n",
       "\n",
       "/* Span, style for the box shown on hovering the info icon */\n",
       ".sk-estimator-doc-link span {\n",
       "  display: none;\n",
       "  z-index: 9999;\n",
       "  position: relative;\n",
       "  font-weight: normal;\n",
       "  right: .2ex;\n",
       "  padding: .5ex;\n",
       "  margin: .5ex;\n",
       "  width: min-content;\n",
       "  min-width: 20ex;\n",
       "  max-width: 50ex;\n",
       "  color: var(--sklearn-color-text);\n",
       "  box-shadow: 2pt 2pt 4pt #999;\n",
       "  /* unfitted */\n",
       "  background: var(--sklearn-color-unfitted-level-0);\n",
       "  border: .5pt solid var(--sklearn-color-unfitted-level-3);\n",
       "}\n",
       "\n",
       ".sk-estimator-doc-link.fitted span {\n",
       "  /* fitted */\n",
       "  background: var(--sklearn-color-fitted-level-0);\n",
       "  border: var(--sklearn-color-fitted-level-3);\n",
       "}\n",
       "\n",
       ".sk-estimator-doc-link:hover span {\n",
       "  display: block;\n",
       "}\n",
       "\n",
       "/* \"?\"-specific style due to the `<a>` HTML tag */\n",
       "\n",
       "#sk-container-id-1 a.estimator_doc_link {\n",
       "  float: right;\n",
       "  font-size: 1rem;\n",
       "  line-height: 1em;\n",
       "  font-family: monospace;\n",
       "  background-color: var(--sklearn-color-background);\n",
       "  border-radius: 1rem;\n",
       "  height: 1rem;\n",
       "  width: 1rem;\n",
       "  text-decoration: none;\n",
       "  /* unfitted */\n",
       "  color: var(--sklearn-color-unfitted-level-1);\n",
       "  border: var(--sklearn-color-unfitted-level-1) 1pt solid;\n",
       "}\n",
       "\n",
       "#sk-container-id-1 a.estimator_doc_link.fitted {\n",
       "  /* fitted */\n",
       "  border: var(--sklearn-color-fitted-level-1) 1pt solid;\n",
       "  color: var(--sklearn-color-fitted-level-1);\n",
       "}\n",
       "\n",
       "/* On hover */\n",
       "#sk-container-id-1 a.estimator_doc_link:hover {\n",
       "  /* unfitted */\n",
       "  background-color: var(--sklearn-color-unfitted-level-3);\n",
       "  color: var(--sklearn-color-background);\n",
       "  text-decoration: none;\n",
       "}\n",
       "\n",
       "#sk-container-id-1 a.estimator_doc_link.fitted:hover {\n",
       "  /* fitted */\n",
       "  background-color: var(--sklearn-color-fitted-level-3);\n",
       "}\n",
       "</style><div id=\"sk-container-id-1\" class=\"sk-top-container\"><div class=\"sk-text-repr-fallback\"><pre>LogisticRegression(class_weight=&#x27;balanced&#x27;, max_iter=1000)</pre><b>In a Jupyter environment, please rerun this cell to show the HTML representation or trust the notebook. <br />On GitHub, the HTML representation is unable to render, please try loading this page with nbviewer.org.</b></div><div class=\"sk-container\" hidden><div class=\"sk-item\"><div class=\"sk-estimator fitted sk-toggleable\"><input class=\"sk-toggleable__control sk-hidden--visually\" id=\"sk-estimator-id-1\" type=\"checkbox\" checked><label for=\"sk-estimator-id-1\" class=\"sk-toggleable__label fitted sk-toggleable__label-arrow fitted\">&nbsp;&nbsp;LogisticRegression<a class=\"sk-estimator-doc-link fitted\" rel=\"noreferrer\" target=\"_blank\" href=\"https://scikit-learn.org/1.4/modules/generated/sklearn.linear_model.LogisticRegression.html\">?<span>Documentation for LogisticRegression</span></a><span class=\"sk-estimator-doc-link fitted\">i<span>Fitted</span></span></label><div class=\"sk-toggleable__content fitted\"><pre>LogisticRegression(class_weight=&#x27;balanced&#x27;, max_iter=1000)</pre></div> </div></div></div></div>"
      ],
      "text/plain": [
       "LogisticRegression(class_weight='balanced', max_iter=1000)"
      ]
     },
     "execution_count": 70,
     "metadata": {},
     "output_type": "execute_result"
    }
   ],
   "source": [
    "# this converts the text into TF-IDF vectors, limits the vocabulary to the top 10,000 words\n",
    "vectorizer = TfidfVectorizer(max_features=10000, ngram_range=(1, 2))\n",
    "\n",
    "# fit_transform is used only on training data to prevent data leakage and transform is used on the test set for consistent vector\n",
    "X_train_vec = vectorizer.fit_transform(X_train)\n",
    "X_test_vec = vectorizer.transform(X_test)\n",
    "\n",
    "# this trains the model with class weights to handle imbalanc as mentioned earlier\n",
    "clf = LogisticRegression(class_weight='balanced', max_iter=1000)\n",
    "clf.fit(X_train_vec, y_train)"
   ]
  },
  {
   "cell_type": "markdown",
   "metadata": {},
   "source": [
    "### Traditional Statistical Model: TF-IDF and Logistic Regression Performance and Evaluation"
   ]
  },
  {
   "cell_type": "code",
   "execution_count": 93,
   "metadata": {},
   "outputs": [
    {
     "name": "stdout",
     "output_type": "stream",
     "text": [
      "TF-IDF and Logistic Regression Performance:\n",
      "\n",
      "              precision    recall  f1-score   support\n",
      "\n",
      "          AI       0.89      0.96      0.92      5381\n",
      "       Human       0.98      0.95      0.96     11709\n",
      "\n",
      "    accuracy                           0.95     17090\n",
      "   macro avg       0.94      0.95      0.94     17090\n",
      "weighted avg       0.95      0.95      0.95     17090\n",
      "\n"
     ]
    },
    {
     "data": {
      "image/png": "[encoded data removed]",
      "text/plain": [
       "<Figure size 600x400 with 2 Axes>"
      ]
     },
     "metadata": {},
     "output_type": "display_data"
    }
   ],
   "source": [
    "# prediction on the test set\n",
    "y_pred = clf.predict(X_test_vec)\n",
    "\n",
    "# this prints a report summary\n",
    "print(\"TF-IDF and Logistic Regression Performance:\\n\")\n",
    "print(classification_report(y_test, y_pred, target_names=[\"AI\", \"Human\"]))\n",
    "\n",
    "# this geenerates the confusion matrix\n",
    "cm = confusion_matrix(y_test, y_pred)\n",
    "labels = [\"AI\", \"Human\"]\n",
    "\n",
    "# this plots the confusion matrix as a heatmap for better visualization as opposed to just numbers in a matrix\n",
    "plt.figure(figsize=(6, 4))\n",
    "sns.heatmap(cm, annot=True, fmt=\"d\", cmap=\"YlGnBu\", xticklabels=labels, yticklabels=labels)\n",
    "plt.title(\"Confusion Matrix: TF-IDF and Logistic Regression\")\n",
    "plt.xlabel(\"Predicted Label\")\n",
    "plt.ylabel(\"True Label\")\n",
    "plt.tight_layout()\n",
    "plt.show()\n"
   ]
  },
  {
   "cell_type": "markdown",
   "metadata": {},
   "source": [
    "The conventional approach utilizing TF-IDF [7] vectorization and Logistic Regression [8] performed well on all metrics. In the test set, it achieved an overall accuracy of 95%, alongside a precision of 0.89 and a recall of 0.96 for texts generated by AI. This represents a notable advancement over the heuristic baseline, particularly in recall, which increased from 0.07 to 0.96. The confusion matrix indicates that the model accurately recognized 5,167 of 5,381 AI texts and 11,080 of 11,709 human texts.\n",
    "\n",
    "This shows that the TF-IDF [7] representation successfully identifies unique lexical patterns between human and AI responses, even in the absence of advanced semantic modelling. The capability of Logistic Regression [8] to manage high-dimensional sparse data, combined with class weighting to tackle imbalance, resulted in balanced performance for both classes. This statistical model creates a robust standard, laying the groundwork for assessing if DL models can offer additional enhancements."
   ]
  },
  {
   "cell_type": "markdown",
   "metadata": {},
   "source": [
    "### Deep Learning Model: DistilBERT\n",
    "\n",
    "For the DL method, a transformer-based language model, namely DistilBERT [11], was chosen. DistilBERT [11] is a streamlined variant of BERT (Bidirectional Encoder Representations from Transformers) [9][10], preserving 97% of BERT’s performance while being considerably quicker and lighter, making it ideal for quickly classifying texts for several real-world scenarios (i.e. plagiarism checker, AI generated phrases and sentences in news articles).\n",
    "\n",
    "In contrast to statistical models that depend on superficial lexical patterns such as TF-IDF [7], transformer models use contextualized embeddings to express richer semantic information. This enables them to identify finer stylistic distinctions between texts created by AI and those written by humans, even when there is vocabulary overlapping.\n",
    "\n",
    "DistilBERT [11] is specifically tailored for the binary classification task utilizing the original uncleaned text column, since transformer models are developed with raw text and have their own tokenization methods. This model represents a modern technique in NLP and is used to assess if deep semantic modelling offers significant enhancement compared to conventional approaches.\n"
   ]
  },
  {
   "cell_type": "code",
   "execution_count": 25,
   "metadata": {},
   "outputs": [
    {
     "data": {
      "application/vnd.jupyter.widget-view+json": {
       "model_id": "82f88f62505d442e83df0088ee9f4f34",
       "version_major": 2,
       "version_minor": 0
      },
      "text/plain": [
       "Map:   0%|          | 0/68359 [00:00<?, ? examples/s]"
      ]
     },
     "metadata": {},
     "output_type": "display_data"
    },
    {
     "data": {
      "application/vnd.jupyter.widget-view+json": {
       "model_id": "b034393f802446379a8e2b43863395a8",
       "version_major": 2,
       "version_minor": 0
      },
      "text/plain": [
       "Map:   0%|          | 0/17090 [00:00<?, ? examples/s]"
      ]
     },
     "metadata": {},
     "output_type": "display_data"
    }
   ],
   "source": [
    "# use the \"raw\" text for this model\n",
    "train_data = pd.DataFrame({'text': X_train, 'label': y_train})\n",
    "test_data = pd.DataFrame({'text': X_test, 'label': y_test})\n",
    "\n",
    "# this converts to huggingface dataset\n",
    "train_dataset = datasets.Dataset.from_pandas(train_data)\n",
    "test_dataset = datasets.Dataset.from_pandas(test_data)\n",
    "\n",
    "# this loads the tokenizer\n",
    "tokenizer = AutoTokenizer.from_pretrained(\"distilbert-base-uncased\")\n",
    "\n",
    "# this is the tokenize function to tokenize the datasets\n",
    "def tokenize_function(example):\n",
    "    return tokenizer(example[\"text\"], padding=\"max_length\", truncation=True, max_length=256)\n",
    "\n",
    "# then tokenize the datasets\n",
    "train_dataset = train_dataset.map(tokenize_function, batched=True)\n",
    "test_dataset = test_dataset.map(tokenize_function, batched=True)\n",
    "\n",
    "# this sets the format for PyTorch\n",
    "train_dataset.set_format(type=\"torch\", columns=[\"input_ids\", \"attention_mask\", \"label\"])\n",
    "test_dataset.set_format(type=\"torch\", columns=[\"input_ids\", \"attention_mask\", \"label\"])\n"
   ]
  },
  {
   "cell_type": "code",
   "execution_count": 27,
   "metadata": {},
   "outputs": [
    {
     "name": "stderr",
     "output_type": "stream",
     "text": [
      "Some weights of DistilBertForSequenceClassification were not initialized from the model checkpoint at distilbert-base-uncased and are newly initialized: ['classifier.bias', 'classifier.weight', 'pre_classifier.bias', 'pre_classifier.weight']\n",
      "You should probably TRAIN this model on a down-stream task to be able to use it for predictions and inference.\n"
     ]
    }
   ],
   "source": [
    "# load the pre trained DistilBERT from huggingface transformers usig binary classification head\n",
    "model = AutoModelForSequenceClassification.from_pretrained(\"distilbert-base-uncased\", num_labels=2)\n",
    "\n",
    "# this is the Training-Arguments to edit the different attributes for the training process \n",
    "training_args = TrainingArguments(\n",
    "    output_dir=\"./results\",\n",
    "    # this overwrites any previous output\n",
    "    overwrite_output_dir=True,\n",
    "    do_train=True,\n",
    "    do_eval=True,\n",
    "    \n",
    "    # this uses epoch as evaluation and logs every epoch\n",
    "    eval_strategy=\"epoch\",\n",
    "    logging_strategy=\"epoch\",\n",
    "    \n",
    "    save_strategy=\"no\",\n",
    "\n",
    "    # this is the no. of complete passes into the training dataset\n",
    "    # 3 is used as a starting point (not too high or low to mitigate overfitting and underfitting)\n",
    "    num_train_epochs=3,\n",
    "\n",
    "    # this is the no. of samples processed in one go (the higher the batch size, the faster the training time)\n",
    "    per_device_train_batch_size=64,\n",
    "    per_device_eval_batch_size=64,\n",
    "\n",
    "    # this is how fast the model adepst and 2e-5 is generally standard for BERT-like models\n",
    "    learning_rate=2e-5,\n",
    "\n",
    "    # weight decay is a regularization technique to mitigate overfitting\n",
    "    weight_decay=0.01,\n",
    "\n",
    "    # this is where training logs are saved, and how often to log\n",
    "    logging_dir=\"./logs\",\n",
    "    logging_steps=100,\n",
    "\n",
    "    # this is logging to external tools\n",
    "    report_to=\"none\",\n",
    "    \n",
    "    # keeps the last checkpoint if saving is on\n",
    "    save_total_limit=1,\n",
    "\n",
    "    # mixed pricision trainig\n",
    "    fp16=True,\n",
    ")\n",
    "\n",
    "# this is the \"Trainer\" that trains the model based on the Training-Arguments, training dataset, and test dataset\n",
    "trainer = Trainer(model=model, args=training_args, train_dataset=train_dataset, eval_dataset=test_dataset,)\n"
   ]
  },
  {
   "cell_type": "code",
   "execution_count": 29,
   "metadata": {},
   "outputs": [
    {
     "data": {
      "text/html": [
       "\n",
       "    <div>\n",
       "      \n",
       "      <progress value='3207' max='3207' style='width:300px; height:20px; vertical-align: middle;'></progress>\n",
       "      [3207/3207 26:10, Epoch 3/3]\n",
       "    </div>\n",
       "    <table border=\"1\" class=\"dataframe\">\n",
       "  <thead>\n",
       " <tr style=\"text-align: left;\">\n",
       "      <th>Epoch</th>\n",
       "      <th>Training Loss</th>\n",
       "      <th>Validation Loss</th>\n",
       "    </tr>\n",
       "  </thead>\n",
       "  <tbody>\n",
       "    <tr>\n",
       "      <td>1</td>\n",
       "      <td>0.094100</td>\n",
       "      <td>0.032612</td>\n",
       "    </tr>\n",
       "    <tr>\n",
       "      <td>2</td>\n",
       "      <td>0.021900</td>\n",
       "      <td>0.119563</td>\n",
       "    </tr>\n",
       "    <tr>\n",
       "      <td>3</td>\n",
       "      <td>0.007700</td>\n",
       "      <td>0.054116</td>\n",
       "    </tr>\n",
       "  </tbody>\n",
       "</table><p>"
      ],
      "text/plain": [
       "<IPython.core.display.HTML object>"
      ]
     },
     "metadata": {},
     "output_type": "display_data"
    },
    {
     "data": {
      "text/plain": [
       "TrainOutput(global_step=3207, training_loss=0.04124956603804072, metrics={'train_runtime': 1571.7502, 'train_samples_per_second': 130.477, 'train_steps_per_second': 2.04, 'total_flos': 1.3583008357088256e+16, 'train_loss': 0.04124956603804072, 'epoch': 3.0})"
      ]
     },
     "execution_count": 29,
     "metadata": {},
     "output_type": "execute_result"
    }
   ],
   "source": [
    "trainer.train()"
   ]
  },
  {
   "cell_type": "markdown",
   "metadata": {},
   "source": [
    "### Deep Learning Model: DistilBERT Performance and Evaluation"
   ]
  },
  {
   "cell_type": "code",
   "execution_count": 31,
   "metadata": {},
   "outputs": [
    {
     "data": {
      "text/html": [],
      "text/plain": [
       "<IPython.core.display.HTML object>"
      ]
     },
     "metadata": {},
     "output_type": "display_data"
    },
    {
     "name": "stdout",
     "output_type": "stream",
     "text": [
      "DistilBERT Performance: {'eval_loss': 0.05411604046821594, 'eval_runtime': 36.0559, 'eval_samples_per_second': 473.986, 'eval_steps_per_second': 7.433, 'epoch': 3.0}\n",
      "              precision    recall  f1-score   support\n",
      "\n",
      "          AI       0.97      1.00      0.98      5381\n",
      "       Human       1.00      0.98      0.99     11709\n",
      "\n",
      "    accuracy                           0.99     17090\n",
      "   macro avg       0.98      0.99      0.99     17090\n",
      "weighted avg       0.99      0.99      0.99     17090\n",
      "\n"
     ]
    },
    {
     "data": {
      "image/png": "[encoded data removed]",
      "text/plain": [
       "<Figure size 600x400 with 2 Axes>"
      ]
     },
     "metadata": {},
     "output_type": "display_data"
    }
   ],
   "source": [
    "# results\n",
    "results = trainer.evaluate()\n",
    "print(\"DistilBERT Performance:\", results)\n",
    "\n",
    "# prediction on the test set\n",
    "predictions = trainer.predict(test_dataset)\n",
    "y_pred_dl = np.argmax(predictions.predictions, axis=1)\n",
    "\n",
    "# Classification report\n",
    "print(classification_report(y_test, y_pred_dl, target_names=[\"AI\", \"Human\"]))\n",
    "\n",
    "# this geenerates the confusion matrix\n",
    "cm = confusion_matrix(y_test, y_pred_dl)\n",
    "labels = [\"AI\", \"Human\"]\n",
    "\n",
    "# this plots the confusion matrix as a heatmap for better visualization as opposed to just numbers in a matrix\n",
    "plt.figure(figsize=(6, 4))\n",
    "sns.heatmap(cm, annot=True, fmt=\"d\", cmap=\"YlGnBu\", xticklabels=labels, yticklabels=labels)\n",
    "plt.title(\"Confusion Matrix: DistilBERT\")\n",
    "plt.xlabel(\"Predicted Label\")\n",
    "plt.ylabel(\"True Label\")\n",
    "plt.tight_layout()\n",
    "plt.show()"
   ]
  },
  {
   "cell_type": "markdown",
   "metadata": {},
   "source": [
    "The DistilBERT [11] model exhibited outstanding results, surpassing the TF-IDF [7] and Logistic Regression [8] in all assessment metrics. It reached a total accuracy of 99%, with a precision of 0.97 and a recall of 1.00 for AI-generated content, along with nearly flawless results for texts written by humans. The macro-averaged F1-score stood at 0.99, reflecting consistent performance in both classes even with the class imbalance. The confusion matrix indicates that the model incorrectly classified 20 AI texts as human and 185 human texts as AI, resulting in a total of only 205 mistakes from 17,090 samples.\n",
    "\n",
    "This notable decrease in misclassification emphasizes the model's capability to recognize nuanced contextual and stylistic hints that simpler models overlook. Furthermore, utilizing pre-trained semantic knowledge, DistilBERT [11] requires minimal task-specific feature engineering while achieving top-tier results. Despite being more demanding on computational resources, particularly in the absence of GPU acceleration, the performance improvements warrant the expense in tasks where accuracy is essential. In general, DistilBERT [11] offers strong evidence that DL models with contextual awareness significantly enhance classification.\n"
   ]
  },
  {
   "cell_type": "markdown",
   "metadata": {},
   "source": [
    "## Conclusions"
   ]
  },
  {
   "cell_type": "markdown",
   "metadata": {},
   "source": [
    "### Performance Analysis and Comparative Discussion\n",
    "\n",
    "The statistical and DL models exhibited robust capabilities in differentiating between AI-generated and human-written text. However, they attained their outcomes via different processes and showed varying trade-offs regarding accuracy, efficiency, and interpretability.\n",
    "\n",
    "The Logistic Regression [8] model using TF-IDF [7], a conventional statistical method, achieved excellent results with a 95% accuracy on the test dataset. It reached a precision of 0.89 and a recall of 0.96 for AI texts, demonstrating a robust ability to detect AI-generated content while ensuring minimal false positives. Its efficacy demonstrates the power of sparse, lexical feature representations in identifying keyword-level distinctions between AI-generated and human-written content. Still, it misidentified 214 AI texts and 629 human texts, according to the confusion matrix. These mistakes might arise from TF-IDF's [7] restrictions in managing intricate syntax or subtle semantic patterns that extend beyond word frequency and co-occurrence.\n",
    "\n",
    "In comparison, the DistilBERT [11] model attained an almost perfect accuracy of 99%, with a precision of 0.97 and a recall of 1.00 for texts created by AI. The confusion matrix shows a significant decrease in mistakes, with merely 20 AI texts and 185 human texts incorrectly classified. This enhanced performance is due to the model’s utilization of contextual embeddings, which encompass not only word occurrence but also their significance in the surrounding context. DistilBERT [11] is especially adept at identifying nuanced stylistic hints and syntactic structures prevalent in generative AI responses, enhancing its resilience to paraphrased or stylistically unclear text.\n",
    "\n",
    "From a resource standpoint, the statistical model presents distinct benefits. It learns rapidly, needs little computing power, and is simple to understand, making it suitable for low-resource or real-time settings. Its clarity also renders it appropriate for situations where transparency is essential, like legal or academic evaluations. Conversely, DistilBERT [11] demands considerably greater computational resources, particularly during training, and greatly advantages from GPU acceleration. In the absence of hardware acceleration, its training speed is significantly diminished.\n",
    "\n",
    "Regardless, DistilBERT’s [11] ability to generalize and classify effectively makes it suitable for critical situations where precision is essential, like plagiarism detection, misinformation filtering, or automated moderation. The model’s capacity to learn from unprocessed text without significant preprocessing simplifies its implementation in intricate workflows.\n",
    "\n",
    "In summary, the statistical model serves as a lightweight and interpretable model while the embedding-driven DL method provides significant gains in accuracy and resilience. Selection between both models should consider application limitations where simplicity and speed are essential, or in situations requiring greater accuracy and semantic insight.\n"
   ]
  },
  {
   "cell_type": "markdown",
   "metadata": {},
   "source": [
    "### Project Summary and Reflections\n",
    "\n",
    "This project offered valuable insights into the differing advantages of statistical and DL approaches for text classification, particularly in identifying AI-generated versus human-written text. By implementing a TF-IDF [7] with Logistic Regression [8] model and a DistilBERT [9][10][11] model, I was able to identify the trade-offs between interpretability, computational resources, and predictive accuracy.\n",
    "\n",
    "The main challenge of the project is the computational resources needed to train the DL model. Because of the computational time required, it may not be ideal for real world scenarios especially its use with most commercial computers. The TF-IDF [7] and Logistic Regression [8] model on the other hand, while has some minor misclassifications, still boasts high overall scores, making it a more desired model when it comes to computational resources and predictive accuracy trade-offs.\n",
    "\n",
    "The experience emphasized various transferable skills and strategies. The tokenization, data preprocessing pipeline, and training framework implemented here can be modified for different domain-specific areas, like spam detection, fake news classification, or sentiment analysis. Moreover, the Hugging Face [20] ecosystem demonstrated great efficacy in handling intricate training procedures, even with substantial transformer models.\n",
    "\n",
    "AI advancements have been growing continuously and especially so in recent years, going forward, future research directions would include datasets from various AI models that generate texts and dataset upkeeping to cater to the evolving AI models. Experimentation improvements would involve domain-specific variants such as SciBERT [21], BioBERT [22], or ensemble methods that combine different models to suit specific contexts.\n",
    "\n",
    "This project enhanced my understanding of both model categories and their suitable applications, providing a solid basis for implementing text classification methods to practical issues in academia, industry, and beyond.\n"
   ]
  },
  {
   "cell_type": "markdown",
   "metadata": {},
   "source": [
    "## Artefacts\n",
    "\n",
    "The artefacts listed below include the developments and results of this project and serve as a basis for evaluation, reproduction, and future advancements. These artifacts are made available to and include the implementation required to reproduce the results outlined in this report.\n",
    "\n",
    "GitHub Repository:\n",
    "\n",
    "Dataset – HC3 [13][14][15]: https://huggingface.co/datasets/Hello-SimpleAI/HC3\n",
    "\n",
    "These artifacts together enhance the project's transparency, reproducibility, and accessibility for academic, research, and educational objectives.\n"
   ]
  },
  {
   "cell_type": "markdown",
   "metadata": {},
   "source": [
    "## Authors’ Declarations\n",
    "\n",
    "### Conflict of Interest\n",
    "\n",
    "The author declares that there are no commercial or financial relationships that could be interpreted as a potential conflict of interest in this research.\n",
    "\n",
    "### Consent\n",
    "\n",
    "This study makes use of publicly available secondary data (HC3 [13][14][15]) and does not involve any direct interaction with human participants or animals by the author.\n",
    "\n",
    "### Authors’ Notes\n",
    "\n",
    "Given the significant rapidly expanding and evolving volume of related literature, many pertinent studies have been overlooked and have not been cited. Nonetheless, attempts were undertaken to reference several publications chosen for their recency and relevance to provide some academic foundation for the project.\n",
    "\n",
    "The author also wishes to note deadlines set, unforeseen circumstances, and time constraints that may have resulted in a lack and or lapse of certain actions, outcomes, and insights that could have potentially contributed towards the project. \n",
    "\n",
    "Correspondence: Wong Zheng Jie, wzhengjie99@gmail.com; zjwong004@mymail.sim.edu.sg\n"
   ]
  },
  {
   "cell_type": "markdown",
   "metadata": {},
   "source": [
    "## References\n",
    "\n",
    "[1]\tJi, J., Li, R., Li, S., Guo, J., Qiu, W., Huang, Z., Chen, C., Jiang, X. and Lu, X., 2024. Detecting machine-generated texts: Not just\" ai vs humans\" and explainability is complicated. arXiv preprint arXiv:2406.18259. Available at: \n",
    "https://doi.org/10.48550/arXiv.2406.18259\n",
    "\n",
    "[2]\tGunser, V.E., Gottschling, S., Brucker, B., Richter, S. and Gerjets, P., 2021, July. Can users distinguish narrative texts written by an artificial intelligence writing tool from purely human text?. In International Conference on Human-Computer Interaction (pp. 520-527). Cham: Springer International Publishing. Available at:\t https://doi.org/10.1007/978-3-030-78635-9_67\n",
    "\n",
    "[3]\tKhalifa, M. and Albadawy, M., 2024. Using artificial intelligence in academic writing and research: An essential productivity tool. Computer Methods and Programs in Biomedicine Update, p.100145. Available at:\t https://doi.org/10.1016/j.cmpbup.2024.100145\n",
    "\n",
    "[4]\tFariello, S., Fenza, G., Forte, F., Gallo, M. and Marotta, M., 2025. Distinguishing Human From Machine: A Review of Advances and Challenges in AI-Generated Text Detection. International Journal of Interactive Multimedia & Artificial Intelligence, 9(3). Available at: https://doi.org/10.9781/ijimai.2024.12.002\n",
    "\n",
    "[5]\tNovelli, C., Taddeo, M. and Floridi, L., 2024. Accountability in artificial intelligence: what it is and how it works. Ai & Society, 39(4), pp.1871-1882. Available at: https://doi.org/10.1007/s00146-023-01635-y\n",
    "\n",
    "[6]\tLechterman, T.M., 2022. The concept of accountability in AI ethics and governance. Oxford, 164–182: Oxford University Press. Available at:\t https://books.google.com/books?hl=en&lr=&id=k475EAAAQBAJ&oi=fnd&pg=PA164&dq=AI+texts+accountability&ots=DmfZUrDMBz&sig=bB56BPMbJBWKiXOZoHOfvRcr5uA\n",
    "\n",
    "[7]\tAizawa, A., 2003. An information-theoretic perspective of tf–idf measures. Information Processing & Management, 39(1), pp.45-65. Available at: https://doi.org/10.1016/S0306-4573(02)00021-3\n",
    "\n",
    "[8]\tHosmer Jr, D.W., Lemeshow, S. and Sturdivant, R.X., 2013. Applied logistic regression. John Wiley & Sons. Available at: https://books.google.com/books?hl=en&lr=&id=bRoxQBIZRd4C&oi=fnd&pg=PR13&dq=logistic+regression&ots=kM5Lpm5Xgb&sig=THLKUlowlqiE-OtFuLp9Wwmash4\n",
    "\n",
    "[9]\tKoroteev, M.V., 2021. BERT: a review of applications in natural language processing and understanding. arXiv preprint arXiv:2103.11943. Available at: \n",
    "https://doi.org/10.48550/arXiv.2103.11943\n",
    "\n",
    "[10]\tJawahar, G., Sagot, B. and Seddah, D., 2019, July. What does BERT learn about the structure of language?. In ACL 2019-57th Annual Meeting of the Association for Computational Linguistics. Available at: https://inria.hal.science/hal-02131630\n",
    "\n",
    "[11]\tSanh, V., Debut, L., Chaumond, J. and Wolf, T., 2019. DistilBERT, a distilled version of BERT: smaller, faster, cheaper and lighter. arXiv preprint arXiv:1910.01108. Available at: https://doi.org/10.48550/arXiv.1910.01108\n",
    "\n",
    "[12]\tSardinha, T.B., 2024. AI-generated vs human-authored texts: A multidimensional comparison. Applied Corpus Linguistics, 4(1), p.100083. Available at: https://doi.org/10.1016/j.acorp.2023.100083\n",
    "\n",
    "[13]\tGuo, B., Zhang, X., Wang, Z., Jiang, M., Nie, J., Ding, Y., Yue, J. and Wu, Y., 2023. How close is chatgpt to human experts? comparison corpus, evaluation, and detection. arXiv preprint arXiv:2301.07597. Available at:\t https://doi.org/10.48550/arXiv.2301.07597\n",
    "\n",
    "[14]\tHello-SimpleAI (n.d.) ChatGPT Comparison Detection. GitHub. Available at: https://github.com/Hello-SimpleAI/chatgpt-comparison-detection (Accessed: June 2025).\n",
    "\n",
    "[15]\tHello-SimpleAI (n.d.) HC3 Dataset. Hugging Face. Available at: https://huggingface.co/datasets/Hello-SimpleAI/HC3 (Accessed: June 2025).\n",
    "\n",
    "[16]\tOpenAI (2023) ChatGPT (GPT-3.5). Available at: https://openai.com/chatgpt (Accessed: June 2025).\n",
    "\n",
    "[17]\tSu, Z., Wu, X., Zhou, W., Ma, G. and Hu, S., 2023. Hc3 plus: A semantic-invariant human chatgpt comparison corpus. arXiv preprint arXiv:2309.02731. Available at: https://doi.org/10.48550/arXiv.2309.02731\n",
    "\n",
    "[18]\tHossin, M. and Sulaiman, M.N., 2015. A review on evaluation metrics for data classification evaluations. International journal of data mining & knowledge management process, 5(2), p.1. Available at: https://doi.org/10.5121/ijdkp.2015.5201\n",
    "\n",
    "[19]\tBird, S., Klein, E. and Loper, E. (2009) Natural Language Processing with Python. O’Reilly Media, Inc – Version 3.8.1 (Jan 02, 2023). Available at:\t https://www.nltk.org/api/nltk.tokenize.word_tokenize.html (Accessed: June 2025).\n",
    "\n",
    "[20]\tHugging Face (n.d.) Hugging Face – The AI community building the future. Available at: https://huggingface.co/ (Accessed: June 2025).\n",
    "\n",
    "[21]\tBeltagy, I., Lo, K. and Cohan, A., 2019. SciBERT: A pretrained language model for scientific text. arXiv preprint arXiv:1903.10676. Available at:\t https://doi.org/10.48550/arXiv.1903.10676\n",
    "\n",
    "[22]\tLee, J., Yoon, W., Kim, S., Kim, D., Kim, S., So, C.H. and Kang, J., 2020. BioBERT: a pre-trained biomedical language representation model for biomedical text mining. Bioinformatics, 36(4), pp.1234-1240. Available at:\t https://doi.org/10.1093/bioinformatics/btz682\n",
    "\n"
   ]
  },
  {
   "cell_type": "code",
   "execution_count": null,
   "metadata": {},
   "outputs": [],
   "source": []
  },
  {
   "cell_type": "code",
   "execution_count": null,
   "metadata": {},
   "outputs": [],
   "source": []
  }
 ],
 "metadata": {
  "kernelspec": {
   "display_name": "Python 3 (ipykernel)",
   "language": "python",
   "name": "python3"
  },
  "language_info": {
   "codemirror_mode": {
    "name": "ipython",
    "version": 3
   },
   "file_extension": ".py",
   "mimetype": "text/x-python",
   "name": "python",
   "nbconvert_exporter": "python",
   "pygments_lexer": "ipython3",
   "version": "3.12.4"
  }
 },
 "nbformat": 4,
 "nbformat_minor": 4
}
